{
 "cells": [
  {
   "cell_type": "markdown",
   "metadata": {},
   "source": [
    "### Printing "
   ]
  },
  {
   "cell_type": "code",
   "execution_count": null,
   "metadata": {},
   "outputs": [],
   "source": [
    "#Printing name\n",
    "print(\"Hello World !!!\")"
   ]
  },
  {
   "cell_type": "markdown",
   "metadata": {},
   "source": [
    "### Dynamic type language"
   ]
  },
  {
   "cell_type": "code",
   "execution_count": 2,
   "metadata": {},
   "outputs": [
    {
     "name": "stdout",
     "output_type": "stream",
     "text": [
      "n is of type <class 'int'>\n",
      "a is of type <class 'str'>\n",
      "var is of type <class 'bool'>\n",
      "d is of type <class 'float'>\n",
      "\n",
      "l is of type <class 'list'>\n",
      "dd is of type <class 'dict'>\n",
      "t is of type <class 'tuple'>\n",
      "x is of type <class 'set'>\n"
     ]
    }
   ],
   "source": [
    "n= 3\n",
    "a= 'a'\n",
    "var = True\n",
    "d = 3.2\n",
    "l = []\n",
    "dd = {}\n",
    "t = ()\n",
    "x = set()\n",
    "\n",
    "# Datatypes\n",
    "print('n is of type', type(n))\n",
    "print('a is of type',type(a))\n",
    "print('var is of type',type(var))\n",
    "print('d is of type',type(d))\n",
    "print()\n",
    "\n",
    "#Data structure\n",
    "\n",
    "print('l is of type',type(l))\n",
    "print('dd is of type',type(dd))\n",
    "print('t is of type',type(t))\n",
    "print('x is of type',type(x))"
   ]
  },
  {
   "cell_type": "markdown",
   "metadata": {},
   "source": [
    "###  Division Operator"
   ]
  },
  {
   "cell_type": "code",
   "execution_count": 3,
   "metadata": {},
   "outputs": [
    {
     "name": "stdout",
     "output_type": "stream",
     "text": [
      "1.4\n",
      "-1.4\n",
      "0.6666666666666666\n",
      "-0.6666666666666666\n"
     ]
    }
   ],
   "source": [
    "print (7/5)\n",
    "print(-7/5)\n",
    "print(2/3)\n",
    "print(-2/3)"
   ]
  },
  {
   "cell_type": "markdown",
   "metadata": {},
   "source": [
    "### Keywords True, False, None(like NULL in Java)"
   ]
  },
  {
   "cell_type": "code",
   "execution_count": 27,
   "metadata": {},
   "outputs": [
    {
     "name": "stdout",
     "output_type": "stream",
     "text": [
      "True\n",
      "True\n",
      "False\n",
      "True\n"
     ]
    }
   ],
   "source": [
    "x= None  \n",
    "y= None\n",
    "print(False==0)\n",
    "print(True==1)\n",
    "print(False==1)\n",
    "print(x==y)"
   ]
  },
  {
   "cell_type": "markdown",
   "metadata": {},
   "source": [
    "### Namespace in Python"
   ]
  },
  {
   "cell_type": "code",
   "execution_count": 4,
   "metadata": {},
   "outputs": [
    {
     "name": "stdout",
     "output_type": "stream",
     "text": [
      "No. of times count fun is called 3\n"
     ]
    }
   ],
   "source": [
    "v1 = 5   #Global namespace\n",
    "def demo_outer():\n",
    "    v2 = 6   #Local namespace\n",
    "    def demo_inner():\n",
    "        v3 = 7 #Nested Local namespace\n",
    "        \n",
    "# print(v2)          Cannot access from outside as it is local variable\n",
    "# print(v1)            #Can access from outside as it is Global\n",
    "# print(v3)          Cannot access from outside as it is local variable\n",
    "\n",
    "\n",
    "#Use case of Global variable\n",
    "count = 0\n",
    "def count_fun():\n",
    "    global count\n",
    "    count = count +1\n",
    "    \n",
    "count_fun()\n",
    "count_fun()\n",
    "count_fun()\n",
    "print(\"No. of times count fun is called\",count)"
   ]
  },
  {
   "cell_type": "markdown",
   "metadata": {},
   "source": [
    "### Assigning multiple variables at once"
   ]
  },
  {
   "cell_type": "code",
   "execution_count": 5,
   "metadata": {},
   "outputs": [
    {
     "name": "stdout",
     "output_type": "stream",
     "text": [
      "3\n"
     ]
    }
   ],
   "source": [
    "a,b = 1,2\n",
    "sum = a+b\n",
    "print(sum)"
   ]
  },
  {
   "cell_type": "markdown",
   "metadata": {},
   "source": [
    "### Multiline comments"
   ]
  },
  {
   "cell_type": "code",
   "execution_count": 6,
   "metadata": {},
   "outputs": [
    {
     "name": "stdout",
     "output_type": "stream",
     "text": [
      "Demo1\n",
      "Demo2\n"
     ]
    }
   ],
   "source": [
    "'''\n",
    "This is just to\n",
    "show you how you\n",
    "can write multiline comments \n",
    "in Python\n",
    "'''\n",
    "print(\"Demo1\") \n",
    "\n",
    "\"\"\"\n",
    "Hello \n",
    "Everyone\n",
    "Good day!!!\n",
    "\"\"\"\n",
    "print('Demo2')"
   ]
  },
  {
   "cell_type": "code",
   "execution_count": 51,
   "metadata": {},
   "outputs": [
    {
     "name": "stdout",
     "output_type": "stream",
     "text": [
      "[2, 3]\n"
     ]
    }
   ],
   "source": [
    "\"\"\"\n",
    "Here first index is included\n",
    "and last index is excluded\n",
    "\"\"\"\n",
    "x = [1,2,3,4,5]\n",
    "print(x[1:3])\n",
    "\n"
   ]
  },
  {
   "cell_type": "markdown",
   "metadata": {},
   "source": [
    "### Line continuation"
   ]
  },
  {
   "cell_type": "code",
   "execution_count": 57,
   "metadata": {},
   "outputs": [
    {
     "name": "stdout",
     "output_type": "stream",
     "text": [
      "Implicit conti.. [[1, 2, 3], [3, 4, 5], [5, 6, 7]]\n",
      "Explicit conti... 11\n"
     ]
    }
   ],
   "source": [
    "#Implicit Line continuation\n",
    "\n",
    "a = [\n",
    "    [1,2,3],\n",
    "    [3,4,5],\n",
    "    [5,6,7]\n",
    "]\n",
    "print(\"Implicit conti..\",a)\n",
    "\n",
    "#Explicit Line continuation\n",
    "b = 1 +2 \\\n",
    "    +5 \\\n",
    "    +3\n",
    "print(\"Explicit conti...\", b)"
   ]
  },
  {
   "cell_type": "markdown",
   "metadata": {},
   "source": [
    "### How to check if a string is keyword?"
   ]
  },
  {
   "cell_type": "code",
   "execution_count": 7,
   "metadata": {},
   "outputs": [
    {
     "name": "stdout",
     "output_type": "stream",
     "text": [
      "for is python keyword\n",
      "while is python keyword\n",
      "do is not valid python keyword\n",
      "leave is not valid python keyword\n",
      "try is python keyword\n"
     ]
    }
   ],
   "source": [
    "\"\"\"\n",
    "Using iskeyword() function\n",
    "we can check if entered keyword is valid or \n",
    "not\"\"\"\n",
    "import keyword\n",
    "\n",
    "keys = [\"for\",\"while\",\"do\",\"leave\",\"try\"]\n",
    "for i in range(len(keys)):\n",
    "    if keyword.iskeyword(keys[i]):\n",
    "        print(keys[i] + \" is python keyword\")\n",
    "    else: \n",
    "        print(keys[i] + \" is not valid python keyword\")"
   ]
  },
  {
   "cell_type": "markdown",
   "metadata": {},
   "source": [
    "### How to print list of all keywords"
   ]
  },
  {
   "cell_type": "code",
   "execution_count": 61,
   "metadata": {},
   "outputs": [
    {
     "name": "stdout",
     "output_type": "stream",
     "text": [
      "The list of keyword is : \n",
      "['False', 'None', 'True', 'and', 'as', 'assert', 'async', 'await', 'break', 'class', 'continue', 'def', 'del', 'elif', 'else', 'except', 'finally', 'for', 'from', 'global', 'if', 'import', 'in', 'is', 'lambda', 'nonlocal', 'not', 'or', 'pass', 'raise', 'return', 'try', 'while', 'with', 'yield']\n"
     ]
    }
   ],
   "source": [
    "import keyword\n",
    "print(\"The list of keyword is : \")\n",
    "print(keyword.kwlist)"
   ]
  },
  {
   "cell_type": "markdown",
   "metadata": {},
   "source": [
    "### One liner if-else instead of Conditional Operator (?:) in Python"
   ]
  },
  {
   "cell_type": "code",
   "execution_count": 9,
   "metadata": {},
   "outputs": [
    {
     "name": "stdout",
     "output_type": "stream",
     "text": [
      "Value of a is:  0\n"
     ]
    }
   ],
   "source": [
    "a= 1 if 20>40 else 0\n",
    "print(\"Value of a is: \",a )"
   ]
  },
  {
   "cell_type": "markdown",
   "metadata": {},
   "source": [
    "### Print without newline in Python 3.x"
   ]
  },
  {
   "cell_type": "code",
   "execution_count": 67,
   "metadata": {},
   "outputs": [
    {
     "name": "stdout",
     "output_type": "stream",
     "text": [
      "1 2 3 4 5 6 "
     ]
    }
   ],
   "source": [
    "a = [1,2,3,4,5,6]\n",
    "for i in range(len(a)):\n",
    "    print(a[i],end =' ')   # using end = ' '"
   ]
  },
  {
   "cell_type": "markdown",
   "metadata": {},
   "source": [
    "### Deciison making"
   ]
  },
  {
   "cell_type": "code",
   "execution_count": 11,
   "metadata": {},
   "outputs": [
    {
     "name": "stdout",
     "output_type": "stream",
     "text": [
      "--start of if---------\n",
      "100 is greater than 15\n",
      "outside if block \n",
      "------end of if-----------\n",
      "\n",
      "---start of if-else--------\n",
      "100 is greater\n",
      "--------end of if-------------\n",
      "\n",
      "----start of nested if--------\n",
      "100 is greater\n",
      "100 is even no\n",
      "----end of if-----------------\n",
      "\n",
      "---------if-elif-else---------\n",
      "i is 100\n",
      "--------end-of-if-elif-else-----\n"
     ]
    }
   ],
   "source": [
    "# if statement\n",
    "\n",
    "i=100\n",
    "print(\"--start of if---------\")\n",
    "if (i>15):\n",
    "    print(\"100 is greater than 15\")\n",
    "print(\"outside if block \")\n",
    "print(\"------end of if-----------\")\n",
    "\n",
    "# if-else\n",
    "print()\n",
    "print(\"---start of if-else--------\")\n",
    "if (i>15):\n",
    "    print(\"100 is greater\")\n",
    "else:\n",
    "    print(\"100 is lesser\")\n",
    "print(\"--------end of if-------------\")\n",
    "\n",
    "# nested if\n",
    "print()\n",
    "print(\"----start of nested if--------\")\n",
    "if(i>15):\n",
    "    print('100 is greater')\n",
    "    if(i%2==0):\n",
    "        print(i, 'is even no')\n",
    "    else:\n",
    "        print(i, 'is odd no')\n",
    "else: \n",
    "    print(\"100 is lesser\")\n",
    "print(\"----end of if-----------------\")\n",
    "\n",
    "\n",
    "### if-elif-else ladder\n",
    "\n",
    "print()\n",
    "print(\"---------if-elif-else---------\")\n",
    "if(i==10):\n",
    "    print(\"i is 10\")\n",
    "elif (i==15):\n",
    "    print(\"i is 15\")\n",
    "elif (i==100):\n",
    "    print(\"i is 100\")\n",
    "else:\n",
    "    print(\"i is not present\")\n",
    "print(\"--------end-of-if-elif-else-----\")"
   ]
  },
  {
   "cell_type": "markdown",
   "metadata": {},
   "source": [
    "### Taking input in Python"
   ]
  },
  {
   "cell_type": "code",
   "execution_count": 12,
   "metadata": {},
   "outputs": [
    {
     "name": "stdout",
     "output_type": "stream",
     "text": [
      "Enter value of a:2\n",
      "Enter value of b:3\n",
      "23\n"
     ]
    }
   ],
   "source": [
    "a = input(\"Enter value of a:\")\n",
    "b = input(\"Enter value of b:\")\n",
    "c = a+b\n",
    "print(c)"
   ]
  },
  {
   "cell_type": "markdown",
   "metadata": {},
   "source": [
    "Here we can see instead of adding inputs 2 and 32 , it has concatenated because by default Python takes every input as a string."
   ]
  },
  {
   "cell_type": "markdown",
   "metadata": {},
   "source": [
    "### Typecasting while taking input "
   ]
  },
  {
   "cell_type": "code",
   "execution_count": 13,
   "metadata": {},
   "outputs": [
    {
     "name": "stdout",
     "output_type": "stream",
     "text": [
      "Enter value of a:3\n",
      "Enter value of b:2\n",
      "5\n"
     ]
    }
   ],
   "source": [
    "a = int(input(\"Enter value of a:\"))\n",
    "b = int(input(\"Enter value of b:\"))\n",
    "c = a+b\n",
    "print(c)\n"
   ]
  },
  {
   "cell_type": "markdown",
   "metadata": {},
   "source": [
    "### Taking multiple inputs from user in Python"
   ]
  },
  {
   "cell_type": "code",
   "execution_count": 15,
   "metadata": {},
   "outputs": [
    {
     "name": "stdout",
     "output_type": "stream",
     "text": [
      "----Split method Example-----\n",
      "Enter two vals:2 3\n",
      "Val of x 2\n",
      "Val of y 3\n",
      "-----List comphehension------\n",
      "Enter two values4 5\n",
      "Val of x 4\n",
      "Val of y 5\n"
     ]
    }
   ],
   "source": [
    "# Using split() method\n",
    "# USing List comprehenssion\n",
    "print('----Split method Example-----')\n",
    "x,y = input(\"Enter two vals:\").split()\n",
    "print('Val of x',x)\n",
    "print('Val of y',y)\n",
    "\n",
    "print('-----List comphehension------')\n",
    "x,y = [int(x) for x in input('Enter two values').split()]\n",
    "print('Val of x',x)\n",
    "print('Val of y',y)\n"
   ]
  },
  {
   "cell_type": "markdown",
   "metadata": {},
   "source": [
    "### Use of end and sep in Python"
   ]
  },
  {
   "cell_type": "code",
   "execution_count": 118,
   "metadata": {},
   "outputs": [
    {
     "name": "stdout",
     "output_type": "stream",
     "text": [
      "L@C@M\n",
      "LCM\n",
      "28-09-2000\n",
      "\n",
      "Welcome\n",
      "Back\n",
      "\n",
      "Hello#World\n",
      "Happy$Ending\n"
     ]
    }
   ],
   "source": [
    "# sep is used to put spacing between letters\n",
    "print('L','C','M',sep = '@')\n",
    "print('L','C','M', sep = '')\n",
    "print('28','09','2000',sep = '-')\n",
    "\n",
    "print()\n",
    "print(\"Welcome\")\n",
    "print(\"Back\")\n",
    "\n",
    "# end is used to put spacing between two lines \n",
    "print()\n",
    "print(\"Hello\", end='#')\n",
    "print(\"World\")\n",
    "\n",
    "print(\"Happy\", end='$')\n",
    "print(\"Ending\")"
   ]
  },
  {
   "cell_type": "markdown",
   "metadata": {},
   "source": [
    "### Print without newline in Python 3.x"
   ]
  },
  {
   "cell_type": "code",
   "execution_count": 16,
   "metadata": {},
   "outputs": [
    {
     "name": "stdout",
     "output_type": "stream",
     "text": [
      "1\n",
      "2\n",
      "3\n",
      "\n",
      "1 2 3 "
     ]
    }
   ],
   "source": [
    "\n",
    "a = [1,2,3]\n",
    "for i in range(3):\n",
    "    print(a[i])\n",
    "    \n",
    "#--- using end--------   \n",
    "print()    \n",
    "a = [1,2,3]\n",
    "for i in range(3):\n",
    "    print(a[i],end= \" \")\n"
   ]
  },
  {
   "cell_type": "markdown",
   "metadata": {},
   "source": [
    "### Python Output formatting"
   ]
  },
  {
   "cell_type": "code",
   "execution_count": 17,
   "metadata": {},
   "outputs": [
    {
     "name": "stdout",
     "output_type": "stream",
     "text": [
      "Sachin :  1, Score :  9.34\n",
      "Total Players : 24, Boys : 10\n",
      "031\n",
      " 3.561E+02\n"
     ]
    }
   ],
   "source": [
    "print(\"Sachin : %2d, Score : % 5.2f\" %(1,09.3356))   #Integer & Float\n",
    "print(\"Total Players : %2d, Boys : %2d\" %(24,10))    #Integer\n",
    "print(\"%1.3o\" %(25))                                 #Octal\n",
    "print(\"% 10.3E\" %(356.089766))                       # Exponential"
   ]
  },
  {
   "cell_type": "markdown",
   "metadata": {},
   "source": [
    "### Use of format() method"
   ]
  },
  {
   "cell_type": "code",
   "execution_count": 13,
   "metadata": {},
   "outputs": [
    {
     "name": "stdout",
     "output_type": "stream",
     "text": [
      "There are 25 student in grade 3\n",
      "I am learning Python from tutorials Point\n",
      "I am learning Java from Javatpoint\n"
     ]
    }
   ],
   "source": [
    "print(\"There are {} student in grade {}\".format(25,3))\n",
    "print(\"I am learning {} from {}\".format('Python','tutorials Point'))\n",
    "print(\"I am learning {0} from {1}\".format('Java','Javatpoint'))"
   ]
  },
  {
   "cell_type": "markdown",
   "metadata": {},
   "source": [
    "### Python Data Structure"
   ]
  },
  {
   "cell_type": "markdown",
   "metadata": {},
   "source": [
    "## String"
   ]
  },
  {
   "cell_type": "code",
   "execution_count": 18,
   "metadata": {},
   "outputs": [
    {
     "name": "stdout",
     "output_type": "stream",
     "text": [
      "Welcome\n",
      "World\n",
      " Life of\n",
      "           humans in \n",
      "           the year 2020\n",
      "       \n",
      " Tom and Jerry was \"1990's kid\" favorite cartoon \n",
      "W\n",
      "e\n",
      "Tom and Jer\n",
      "emocleW\n"
     ]
    }
   ],
   "source": [
    "str1 = \"Welcome\"\n",
    "print(str1)\n",
    "\n",
    "str2 = 'World'\n",
    "print(str2)\n",
    "\n",
    "str3 = ''' Life of\n",
    "           humans in \n",
    "           the year 2020\n",
    "       '''\n",
    "print(str3)\n",
    "\n",
    "\n",
    "str4 = ''' Tom and Jerry was \"1990's kid\" favorite cartoon '''\n",
    "print(str4)\n",
    "\n",
    "#Accessing characters\n",
    "\n",
    "print(str1[0]) \n",
    "print(str1[-1])   #last character of string\n",
    "\n",
    "#String Slicing\n",
    "print(str4[1:12])\n",
    "\n",
    "#Reversing string (Starts at the end of string and end at position 0, moves with the step -1)\n",
    "print(str1[:: -1])\n",
    "\n"
   ]
  },
  {
   "cell_type": "markdown",
   "metadata": {},
   "source": [
    "## List"
   ]
  },
  {
   "cell_type": "code",
   "execution_count": 19,
   "metadata": {},
   "outputs": [
    {
     "name": "stdout",
     "output_type": "stream",
     "text": [
      "[1, 'b', 'google', 67, 67]\n",
      "[1, 'b', 'google', 67, 67, 'girl']\n",
      "[1, 'b', 'google', 67, 67]\n",
      "[1, 'b', 'google', 67, 67, (7, 8)]\n",
      "[]\n",
      "6\n",
      "0\n",
      "[1, 'b', 'google', 100, 67, 67, (7, 8)]\n",
      "[1, 'b', 'google', 100, 67, 67, (7, 8), 99, 98, 78]\n",
      "1\n",
      "World\n",
      "99\n",
      "[1, 'b', 'google', 100, 67, 67, (7, 8), 98, 78]\n",
      "[67, 67, (7, 8), 98]\n"
     ]
    }
   ],
   "source": [
    "L = [1,'b',\"google\",67,67]\n",
    "print(L)\n",
    "L.append('girl')\n",
    "print(L)\n",
    "L.pop()\n",
    "print(L)\n",
    "L.append((7,8))  # adding tuple\n",
    "print(L)\n",
    "\n",
    "#Empty List\n",
    "List = []\n",
    "print(List)\n",
    "\n",
    "#Size of list\n",
    "\n",
    "print(len(L))\n",
    "print(len(List))\n",
    "\n",
    "#insert at the middle of list, use insert\n",
    "\n",
    "L.insert(3,100)\n",
    "print(L)\n",
    "\n",
    "#Adding multiple elements at same time\n",
    "L2 = [99,98,78]\n",
    "L.extend(L2)\n",
    "print(L)\n",
    "\n",
    "#Accessing Elemnets from List\n",
    "\n",
    "print(L[0])\n",
    "L3 = [['Hello', 'World'], ['Bye','Alice']]\n",
    "print(L3[0][1])\n",
    "print(L[-3])\n",
    "L.remove(99)\n",
    "print(L)\n",
    "print(L[4:8])"
   ]
  },
  {
   "cell_type": "markdown",
   "metadata": {},
   "source": [
    "## Set"
   ]
  },
  {
   "cell_type": "code",
   "execution_count": 20,
   "metadata": {},
   "outputs": [
    {
     "name": "stdout",
     "output_type": "stream",
     "text": [
      "set()\n",
      "{'n', 'L', 'a', 'r', 'o', ' ', 't', 'h', 'e', 'P', 'y'}\n",
      "{(7, 8), 'ML', 'Python', 'Learn'}\n",
      "{'ML', 'Python', 'Learn', 'Deep Learning', (7, 8)}\n",
      "{77, 'ML', 'Python', 'Learn', 'Deep Learning', 88, (7, 8)}\n",
      "77--ML--Python--Learn--Deep Learning--88--(7, 8)--\n",
      "{77, 'ML', 'Python', 'Learn', 'Deep Learning', (7, 8)}\n",
      "{77, 'Python', 'Learn', 'Deep Learning', (7, 8)}\n"
     ]
    }
   ],
   "source": [
    "#Creating empty set\n",
    "\n",
    "s1 = set()\n",
    "print(s1)\n",
    "\n",
    "s2 = set(\"Learn Python\")\n",
    "print(s2)\n",
    "\n",
    "s3 = set ([\"Python\",\"Learn\",\"ML\",(7,8)])\n",
    "print(s3)\n",
    "\n",
    "s3.add(\"Deep Learning\")\n",
    "print(s3)\n",
    "\n",
    "s3.update([88,77])\n",
    "print(s3)\n",
    "\n",
    "#Accessing elements in set\n",
    "\n",
    "for i in s3:\n",
    "    print(i, end= \"--\")\n",
    "    \n",
    "#Removing Elemnets from set\n",
    "\n",
    "print()\n",
    "s3.remove(88)\n",
    "print(s3)\n",
    "\n",
    "s3.discard('ML')\n",
    "print(s3)"
   ]
  },
  {
   "cell_type": "markdown",
   "metadata": {},
   "source": [
    "## Tuple"
   ]
  },
  {
   "cell_type": "code",
   "execution_count": 21,
   "metadata": {},
   "outputs": [
    {
     "name": "stdout",
     "output_type": "stream",
     "text": [
      "()\n",
      "('My', 'World', 'is', 'You')\n",
      "(4, 6, 7, 88)\n"
     ]
    }
   ],
   "source": [
    "Tup = ()\n",
    "print(Tup)\n",
    "\n",
    "Tup1 = ('My','World','is','You')\n",
    "print(Tup1)\n",
    "\n",
    "L = [4,6,7,88]\n",
    "print(tuple(L))\n",
    "\n",
    "del Tup1\n",
    "# print(Tup1)"
   ]
  },
  {
   "cell_type": "markdown",
   "metadata": {},
   "source": [
    "## Dictionary"
   ]
  },
  {
   "cell_type": "code",
   "execution_count": 22,
   "metadata": {},
   "outputs": [
    {
     "name": "stdout",
     "output_type": "stream",
     "text": [
      "{}\n",
      "{1: 'India', 2: 'USA', 3: 'Russia', 4: [1, 23, 4, 5], 5: {'A': 'Apple', 'B': 'Ball'}}\n",
      "Russia\n",
      "23\n"
     ]
    }
   ],
   "source": [
    "#Empty Dictionary\n",
    "Dic = {}\n",
    "print(Dic)\n",
    "\n",
    "Dict = {1: 'India', 2: 'USA', 3:'Russia', 4: [1,23,4,5],5 :{'A': 'Apple', 'B': 'Ball'}}\n",
    "print(Dict)\n",
    "\n",
    "print(Dict[3])\n",
    "print(Dict[4][1])"
   ]
  },
  {
   "cell_type": "code",
   "execution_count": null,
   "metadata": {},
   "outputs": [],
   "source": [
    "# 6. Array : https://www.geeksforgeeks.org/python-arrays/\n",
    "\n"
   ]
  },
  {
   "cell_type": "markdown",
   "metadata": {},
   "source": [
    "### Packing and Unpacking"
   ]
  },
  {
   "cell_type": "code",
   "execution_count": 23,
   "metadata": {},
   "outputs": [
    {
     "name": "stdout",
     "output_type": "stream",
     "text": [
      "1 2 3 4\n",
      "15\n",
      "30\n"
     ]
    }
   ],
   "source": [
    "\n",
    "#Unpacking :  We can use * to unpack the list so that all elements of it can be passed as different parameters\n",
    "def fun(a, b, c, d): \n",
    "    print(a, b, c, d) \n",
    "  \n",
    "ll = [1, 2, 3, 4] \n",
    "  \n",
    "# Unpacking list into four arguments \n",
    "fun(*ll) \n",
    "\n",
    "\n",
    "#Packing\n",
    "def mySum(*args): \n",
    "    sum = 0\n",
    "    for i in range(0, len(args)): \n",
    "        sum = sum + args[i] \n",
    "    return sum \n",
    "  \n",
    "# Driver code \n",
    "print(mySum(1, 2, 3, 4, 5)) \n",
    "print(mySum(10, 20))\n"
   ]
  },
  {
   "cell_type": "markdown",
   "metadata": {},
   "source": [
    "### convert a character to integer in Python"
   ]
  },
  {
   "cell_type": "code",
   "execution_count": 24,
   "metadata": {},
   "outputs": [
    {
     "name": "stdout",
     "output_type": "stream",
     "text": [
      "65\n"
     ]
    }
   ],
   "source": [
    "s= 'A'\n",
    "c = ord(s)\n",
    "print(c)"
   ]
  },
  {
   "cell_type": "markdown",
   "metadata": {},
   "source": [
    "### Swap two numbers in Python"
   ]
  },
  {
   "cell_type": "code",
   "execution_count": 25,
   "metadata": {},
   "outputs": [
    {
     "name": "stdout",
     "output_type": "stream",
     "text": [
      "20\n",
      "10\n"
     ]
    }
   ],
   "source": [
    "a,b = 10,20\n",
    "a,b = b,a\n",
    "print(a)\n",
    "print(b)"
   ]
  },
  {
   "cell_type": "markdown",
   "metadata": {},
   "source": [
    "### Private Variable in Python"
   ]
  },
  {
   "cell_type": "code",
   "execution_count": null,
   "metadata": {},
   "outputs": [],
   "source": []
  },
  {
   "cell_type": "code",
   "execution_count": null,
   "metadata": {},
   "outputs": [],
   "source": []
  },
  {
   "cell_type": "markdown",
   "metadata": {},
   "source": [
    "## Operators"
   ]
  },
  {
   "cell_type": "markdown",
   "metadata": {},
   "source": [
    "## Ternary"
   ]
  },
  {
   "cell_type": "code",
   "execution_count": 26,
   "metadata": {},
   "outputs": [
    {
     "name": "stdout",
     "output_type": "stream",
     "text": [
      "20\n"
     ]
    }
   ],
   "source": [
    "a,b = 100,20\n",
    "min = a if a<b else b\n",
    "print(min)"
   ]
  },
  {
   "cell_type": "code",
   "execution_count": 102,
   "metadata": {},
   "outputs": [
    {
     "name": "stdout",
     "output_type": "stream",
     "text": [
      "b is greater than a\n"
     ]
    }
   ],
   "source": [
    "a, b = 10, 20\n",
    "  \n",
    "print (\"Both a and b are equal\" if a == b else \"a is greater than b\"\n",
    "        if a > b else \"b is greater than a\") "
   ]
  },
  {
   "cell_type": "markdown",
   "metadata": {},
   "source": [
    "## Division"
   ]
  },
  {
   "cell_type": "code",
   "execution_count": 27,
   "metadata": {},
   "outputs": [
    {
     "name": "stdout",
     "output_type": "stream",
     "text": [
      "2.5\n",
      "-2.5\n",
      "\n",
      "2.5\n",
      "-2.5\n",
      "\n",
      "2\n",
      "-3\n",
      "\n",
      "2.0\n",
      "-3.0\n"
     ]
    }
   ],
   "source": [
    "# / :  operator works as a floor division for integer and float argument\n",
    "# // : The real floor division operator is “//”. It returns floor value for both integer and floating point arguments.\n",
    "print (5/2) \n",
    "print (-5/2)\n",
    "print()\n",
    "print (5.0/2) \n",
    "print (-5.0/2)\n",
    "print()\n",
    "print (5//2) \n",
    "print (-5//2) \n",
    "print()\n",
    "print (5.0//2) \n",
    "print (-5.0//2) "
   ]
  },
  {
   "cell_type": "markdown",
   "metadata": {},
   "source": [
    "## Any , All"
   ]
  },
  {
   "cell_type": "code",
   "execution_count": 28,
   "metadata": {},
   "outputs": [
    {
     "name": "stdout",
     "output_type": "stream",
     "text": [
      "True\n",
      "False\n",
      "\n",
      "True\n",
      "False\n"
     ]
    }
   ],
   "source": [
    "# Any : Returns true if any of the items is True. It returns False if empty or all are false\n",
    "# All : Returns true if all of the items are True\n",
    "\n",
    "print (any([False, False, False, True])) \n",
    "print (any([False, False, False, False])) \n",
    "print()\n",
    "\n",
    "print (all([True, True, True, True])) \n",
    "print (all([False, True, True, False]))\n",
    "\n",
    "\n",
    "  "
   ]
  },
  {
   "cell_type": "code",
   "execution_count": null,
   "metadata": {},
   "outputs": [],
   "source": [
    "# https://www.geeksforgeeks.org/operator-overloading-in-python/"
   ]
  }
 ],
 "metadata": {
  "kernelspec": {
   "display_name": "Python 3",
   "language": "python",
   "name": "python3"
  },
  "language_info": {
   "codemirror_mode": {
    "name": "ipython",
    "version": 3
   },
   "file_extension": ".py",
   "mimetype": "text/x-python",
   "name": "python",
   "nbconvert_exporter": "python",
   "pygments_lexer": "ipython3",
   "version": "3.7.6"
  }
 },
 "nbformat": 4,
 "nbformat_minor": 4
}
