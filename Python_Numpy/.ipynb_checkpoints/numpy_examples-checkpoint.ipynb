{
 "cells": [
  {
   "cell_type": "markdown",
   "metadata": {},
   "source": [
    "# NumPy\n",
    "\n",
    "numpy is python's package for doing math that is more advanced than +-*/\n",
    "\n",
    "This includes special functions like cosine, exponential, sqrt, ...\n",
    "\n",
    "On top of this we can use numpy to generate samples from many types of random variables\n",
    "\n",
    "numpy also has a powerful data type to define vectors, matrices, and tensors.\n",
    "\n",
    "With these data types numpy also allows us to do linear algebra - matrix multiplication and matrix-vector solutions"
   ]
  },
  {
   "cell_type": "markdown",
   "metadata": {},
   "source": [
    "## Importing Numpy"
   ]
  },
  {
   "cell_type": "code",
   "execution_count": 15,
   "metadata": {},
   "outputs": [],
   "source": [
    "# the first step of using numpy is to tell python to use it\n",
    "import numpy as np"
   ]
  },
  {
   "cell_type": "markdown",
   "metadata": {},
   "source": [
    "## Cos, sqrt, log"
   ]
  },
  {
   "cell_type": "code",
   "execution_count": 23,
   "metadata": {},
   "outputs": [
    {
     "name": "stdout",
     "output_type": "stream",
     "text": [
      "-1.0\n",
      "1.1\n",
      "5.2\n"
     ]
    }
   ],
   "source": [
    "print(np.cos(np.pi))\n",
    "print(np.sqrt(1.21))\n",
    "print(np.log(np.exp(5.2)))"
   ]
  },
  {
   "cell_type": "markdown",
   "metadata": {},
   "source": [
    "## Numpy Array"
   ]
  },
  {
   "cell_type": "code",
   "execution_count": 24,
   "metadata": {},
   "outputs": [
    {
     "name": "stdout",
     "output_type": "stream",
     "text": [
      "[1 2 3]\n",
      "\n",
      "[[1 2 1]\n",
      " [4 5 9]\n",
      " [1 8 9]]\n",
      "\n",
      "[[1 4 1]\n",
      " [2 5 8]\n",
      " [1 9 9]]\n"
     ]
    }
   ],
   "source": [
    "# we can create numpy arrays by converting lists\n",
    "# this is a vector\n",
    "vec = np.array([1,2,3])\n",
    "print(vec)\n",
    "# we can create matrices by converting lists of lists\n",
    "mat = np.array([[1,2,1],[4,5,9],[1,8,9]])\n",
    "print('')\n",
    "print(mat)\n",
    "print('')\n",
    "print(mat.T)"
   ]
  },
  {
   "cell_type": "code",
   "execution_count": 25,
   "metadata": {},
   "outputs": [
    {
     "name": "stdout",
     "output_type": "stream",
     "text": [
      "[ 0  1  2  3  4  5  6  7  8  9 10 11 12 13 14]\n",
      "\n",
      "[ 3  9 15]\n"
     ]
    }
   ],
   "source": [
    "# there are lots of other ways to create numpy arrays\n",
    "vec2 = np.arange(0,15)\n",
    "print(vec2)\n",
    "print('')\n",
    "vec3 = np.arange(3,21,6)\n",
    "print(vec3)\n"
   ]
  },
  {
   "cell_type": "markdown",
   "metadata": {},
   "source": [
    "### linspace , Reshape"
   ]
  },
  {
   "cell_type": "code",
   "execution_count": 26,
   "metadata": {},
   "outputs": [
    {
     "name": "stdout",
     "output_type": "stream",
     "text": [
      "[0.         0.55555556 1.11111111 1.66666667 2.22222222 2.77777778\n",
      " 3.33333333 3.88888889 4.44444444 5.        ]\n",
      "\n",
      "[[0.         0.55555556]\n",
      " [1.11111111 1.66666667]\n",
      " [2.22222222 2.77777778]\n",
      " [3.33333333 3.88888889]\n",
      " [4.44444444 5.        ]]\n",
      "[0.         0.55555556 1.11111111 1.66666667 2.22222222 2.77777778\n",
      " 3.33333333 3.88888889 4.44444444 5.        ]\n"
     ]
    }
   ],
   "source": [
    "\n",
    "vec4 = np.linspace(0,5,10)\n",
    "print(vec4)\n",
    "print('')\n",
    "\n",
    "#Reshaping\n",
    "vec4_reshaped = vec4.reshape(5,2)\n",
    "print(vec4_reshaped)\n",
    "print(vec4)"
   ]
  },
  {
   "cell_type": "markdown",
   "metadata": {},
   "source": [
    "## Matrix of 0s, 1s, and identity"
   ]
  },
  {
   "cell_type": "code",
   "execution_count": 27,
   "metadata": {},
   "outputs": [
    {
     "name": "stdout",
     "output_type": "stream",
     "text": [
      "[[0. 0. 0.]\n",
      " [0. 0. 0.]\n",
      " [0. 0. 0.]\n",
      " [0. 0. 0.]\n",
      " [0. 0. 0.]]\n",
      "\n",
      "[[1. 1. 1. 1. 1.]\n",
      " [1. 1. 1. 1. 1.]\n",
      " [1. 1. 1. 1. 1.]]\n",
      "\n",
      "[[1. 0. 0. 0. 0.]\n",
      " [0. 1. 0. 0. 0.]\n",
      " [0. 0. 1. 0. 0.]\n",
      " [0. 0. 0. 1. 0.]\n",
      " [0. 0. 0. 0. 1.]]\n"
     ]
    }
   ],
   "source": [
    "#Matrix of zero\n",
    "mat2 = np.zeros([5,3])\n",
    "print(mat2)\n",
    "\n",
    "#Matrix of ones\n",
    "mat3 = np.ones((3,5))\n",
    "print('')\n",
    "print(mat3)\n",
    "\n",
    "#Identity Matrix\n",
    "mat4 = np.eye(5)\n",
    "print('')\n",
    "print(mat4)"
   ]
  },
  {
   "cell_type": "markdown",
   "metadata": {},
   "source": [
    "## arange"
   ]
  },
  {
   "cell_type": "code",
   "execution_count": 21,
   "metadata": {},
   "outputs": [
    {
     "name": "stdout",
     "output_type": "stream",
     "text": [
      "[1 2 3 4 5]\n",
      "[3 4 5 6 7]\n",
      "[ 4  6  8 10 12]\n",
      "[ 3  8 15 24 35]\n",
      "[1.         0.5        0.33333333 0.25       0.2       ]\n",
      "[1.73205081 2.         2.23606798 2.44948974 2.64575131]\n"
     ]
    }
   ],
   "source": [
    "# we can +-*/ arrays together if they're the right size\n",
    "vec5 = np.arange(1,6)\n",
    "vec6 = np.arange(3,8)\n",
    "print(vec5)\n",
    "print(vec6)\n",
    "print(vec5+vec6)\n",
    "print(vec5*vec6)\n",
    "print(1/vec5)\n",
    "print(np.sqrt(vec6))"
   ]
  },
  {
   "cell_type": "markdown",
   "metadata": {},
   "source": [
    "## Matrix multiplication"
   ]
  },
  {
   "cell_type": "code",
   "execution_count": 22,
   "metadata": {},
   "outputs": [
    {
     "name": "stdout",
     "output_type": "stream",
     "text": [
      "[[1 2 1]\n",
      " [4 5 9]\n",
      " [1 8 9]]\n",
      "\n",
      "[1 2 3]\n",
      "\n",
      "[ 8 41 44]\n"
     ]
    }
   ],
   "source": [
    "# we can do matrix multiplication\n",
    "print(mat)\n",
    "print('')\n",
    "print(vec)\n",
    "print()\n",
    "product = np.matmul(mat,vec)\n",
    "print(product)"
   ]
  },
  {
   "cell_type": "markdown",
   "metadata": {},
   "source": [
    "## linalg - solve, inv"
   ]
  },
  {
   "cell_type": "code",
   "execution_count": 14,
   "metadata": {},
   "outputs": [
    {
     "name": "stdout",
     "output_type": "stream",
     "text": [
      "[1. 2. 3.]\n",
      "\n",
      "[[ 0.5         0.18518519 -0.24074074]\n",
      " [ 0.5        -0.14814815  0.09259259]\n",
      " [-0.5         0.11111111  0.05555556]]\n"
     ]
    }
   ],
   "source": [
    "print(np.linalg.solve(mat,product))\n",
    "print('')\n",
    "print(np.linalg.inv(mat))"
   ]
  },
  {
   "cell_type": "code",
   "execution_count": 15,
   "metadata": {},
   "outputs": [
    {
     "name": "stdout",
     "output_type": "stream",
     "text": [
      "['blue' 'red' 'orange' 'purple' 'purple' 'orange' 'Red' '6']\n",
      "['6' 'Red' 'blue' 'orange' 'purple' 'red']\n"
     ]
    }
   ],
   "source": [
    "# we can find the unique values in an array\n",
    "vec7 = np.array(['blue','red','orange','purple','purple','orange','Red',6])\n",
    "print(vec7)\n",
    "print(np.unique(vec7))"
   ]
  },
  {
   "cell_type": "markdown",
   "metadata": {},
   "source": [
    "## Rand "
   ]
  },
  {
   "cell_type": "code",
   "execution_count": 34,
   "metadata": {},
   "outputs": [
    {
     "name": "stdout",
     "output_type": "stream",
     "text": [
      "[[0.42433616 0.63826512 0.27081522 0.13171666 0.67311621]\n",
      " [0.0320257  0.61018882 0.28567525 0.50075779 0.17366139]\n",
      " [0.8001132  0.7563492  0.08550452 0.77022358 0.58410806]\n",
      " [0.0047388  0.49801243 0.42973793 0.67572263 0.91848267]\n",
      " [0.47213685 0.12845897 0.99403237 0.32957296 0.92629123]]\n",
      "\n",
      "[[-0.7408915   1.32376438  0.39913401  0.38069874  0.34245864]\n",
      " [-0.13223875 -1.96511338  0.90026881  0.04122428  0.65262482]\n",
      " [ 0.13029539  0.87754495  0.05799537 -1.1319344   0.75587559]\n",
      " [ 0.3336071  -0.13081979 -0.21885299 -1.00803078  0.81682611]\n",
      " [ 0.0600196   0.45863493 -1.85593412 -0.47185612 -0.16587387]\n",
      " [-0.02468073  0.07801798  0.01889054 -1.66755336  0.23069222]\n",
      " [ 0.05058253  0.07161233  0.45368547 -0.38579186 -0.72472691]\n",
      " [-0.62957526  0.80819105  0.45117329 -0.05228862 -0.16595689]\n",
      " [ 0.60834966 -0.63091589 -0.51462362  2.07918785  0.38852459]\n",
      " [ 0.83586479 -0.66180107  0.94977376  0.72736757 -0.67600007]]\n"
     ]
    }
   ],
   "source": [
    "# we can also use numpy to generate samples of a random variable\n",
    "rand_mat = np.random.rand(5,5) # uniform random variable\n",
    "print(rand_mat)\n",
    "rand_mat2 = np.random.randn(10,5) # standard normal random variable\n",
    "print('')\n",
    "print(rand_mat2)"
   ]
  },
  {
   "cell_type": "markdown",
   "metadata": {},
   "source": [
    "## Numpy mean, std "
   ]
  },
  {
   "cell_type": "code",
   "execution_count": 35,
   "metadata": {},
   "outputs": [
    {
     "name": "stdout",
     "output_type": "stream",
     "text": [
      "0.4845617488323185\n",
      "0.771489069180206\n"
     ]
    }
   ],
   "source": [
    "# we can also use numpy for statistical tools on arrays\n",
    "print(np.mean(rand_mat))\n",
    "print(np.std(rand_mat2))"
   ]
  },
  {
   "cell_type": "markdown",
   "metadata": {},
   "source": [
    "## Numpy min, max"
   ]
  },
  {
   "cell_type": "code",
   "execution_count": 36,
   "metadata": {},
   "outputs": [
    {
     "name": "stdout",
     "output_type": "stream",
     "text": [
      "0.004738797423707641\n",
      "2.0791878540568516\n"
     ]
    }
   ],
   "source": [
    "print(np.min(rand_mat))\n",
    "print(np.max(rand_mat2))"
   ]
  },
  {
   "cell_type": "markdown",
   "metadata": {},
   "source": [
    "## Accessing Numpy vector"
   ]
  },
  {
   "cell_type": "code",
   "execution_count": 37,
   "metadata": {},
   "outputs": [
    {
     "name": "stdout",
     "output_type": "stream",
     "text": [
      "[-1.31796872  0.22897466  0.54344347  0.35732199 -0.97846736 -0.14648184\n",
      "  0.1341322   0.61297157 -1.51846083 -0.0383154   1.02013962 -0.5503544\n",
      " -0.08571385 -2.13511123 -0.94657748  1.10110239  1.21196699 -0.01913823\n",
      "  1.97225432]\n",
      "0.1341321971704123\n"
     ]
    }
   ],
   "source": [
    "# how do we access entries in a numpy vector\n",
    "rand_vec = np.random.randn(19)\n",
    "print(rand_vec)\n",
    "print(rand_vec[6])"
   ]
  },
  {
   "cell_type": "code",
   "execution_count": 38,
   "metadata": {},
   "outputs": [
    {
     "name": "stdout",
     "output_type": "stream",
     "text": [
      "[-0.97846736 -0.14648184  0.1341322   0.61297157 -1.51846083]\n"
     ]
    }
   ],
   "source": [
    "# we can access multiple entries at once using :\n",
    "print(rand_vec[4:9])"
   ]
  },
  {
   "cell_type": "code",
   "execution_count": 39,
   "metadata": {},
   "outputs": [
    {
     "name": "stdout",
     "output_type": "stream",
     "text": [
      "[ 0  3  6  9 12]\n",
      "[-1.31796872  0.35732199  0.1341322  -0.0383154  -0.08571385]\n"
     ]
    }
   ],
   "source": [
    "# we can also access multiple non-consecutive entries using np.arange\n",
    "print(np.arange(0,15,3))\n",
    "print(rand_vec[np.arange(0,15,3)])"
   ]
  },
  {
   "cell_type": "markdown",
   "metadata": {},
   "source": [
    "## Accessing Numpy matrix"
   ]
  },
  {
   "cell_type": "code",
   "execution_count": 40,
   "metadata": {},
   "outputs": [
    {
     "name": "stdout",
     "output_type": "stream",
     "text": [
      "[[0.42433616 0.63826512 0.27081522 0.13171666 0.67311621]\n",
      " [0.0320257  0.61018882 0.28567525 0.50075779 0.17366139]\n",
      " [0.8001132  0.7563492  0.08550452 0.77022358 0.58410806]\n",
      " [0.0047388  0.49801243 0.42973793 0.67572263 0.91848267]\n",
      " [0.47213685 0.12845897 0.99403237 0.32957296 0.92629123]]\n",
      "0.2856752543960841\n",
      "0.2856752543960841\n"
     ]
    }
   ],
   "source": [
    "print(rand_mat)\n",
    "print(rand_mat[1][2])\n",
    "print(rand_mat[1,2])\n"
   ]
  },
  {
   "cell_type": "code",
   "execution_count": 41,
   "metadata": {},
   "outputs": [
    {
     "name": "stdout",
     "output_type": "stream",
     "text": [
      "[[0.63826512 0.27081522]\n",
      " [0.61018882 0.28567525]]\n"
     ]
    }
   ],
   "source": [
    "print(rand_mat[0:2,1:3])"
   ]
  },
  {
   "cell_type": "markdown",
   "metadata": {},
   "source": [
    "### Modifying Array"
   ]
  },
  {
   "cell_type": "code",
   "execution_count": 42,
   "metadata": {},
   "outputs": [
    {
     "name": "stdout",
     "output_type": "stream",
     "text": [
      "[-1.31796872  0.22897466  0.54344347  0.35732199 -0.97846736 -0.14648184\n",
      "  0.1341322   0.61297157 -1.51846083 -0.0383154   1.02013962 -0.5503544\n",
      " -0.08571385 -2.13511123 -0.94657748  1.10110239  1.21196699 -0.01913823\n",
      "  1.97225432]\n",
      "\n",
      "[-1.31796872  0.22897466  0.54344347  4.          4.         -0.14648184\n",
      "  0.1341322   0.61297157 -1.51846083 -0.0383154   1.02013962 -0.5503544\n",
      " -0.08571385 -2.13511123 -0.94657748  1.10110239  1.21196699 -0.01913823\n",
      "  1.97225432]\n",
      "\n",
      "[-1.31796872  0.22897466  0.54344347  1.          2.         -0.14648184\n",
      "  0.1341322   0.61297157 -1.51846083 -0.0383154   1.02013962 -0.5503544\n",
      " -0.08571385 -2.13511123 -0.94657748  1.10110239  1.21196699 -0.01913823\n",
      "  1.97225432]\n"
     ]
    }
   ],
   "source": [
    "# let's change some values in an array!\n",
    "print(rand_vec)\n",
    "rand_vec[3:5] = 4\n",
    "print('')\n",
    "print(rand_vec)\n",
    "rand_vec[3:5] = [1,2]\n",
    "print('')\n",
    "print(rand_vec)"
   ]
  },
  {
   "cell_type": "code",
   "execution_count": 26,
   "metadata": {},
   "outputs": [
    {
     "name": "stdout",
     "output_type": "stream",
     "text": [
      "[[0.16880535 0.35894606 0.28890073 0.4544318  0.40756237]\n",
      " [0.0825886  0.64903667 0.81768018 0.09921356 0.05545955]\n",
      " [0.10335177 0.34597068 0.46429314 0.61668503 0.81072597]\n",
      " [0.13637321 0.02436527 0.99848828 0.83753101 0.30194466]\n",
      " [0.4862722  0.180414   0.66620005 0.48111588 0.89633482]]\n",
      "\n",
      "[[0.16880535 0.35894606 0.28890073 0.4544318  0.40756237]\n",
      " [0.0825886  0.64903667 0.81768018 0.         0.        ]\n",
      " [0.10335177 0.34597068 0.46429314 0.         0.        ]\n",
      " [0.13637321 0.02436527 0.99848828 0.83753101 0.30194466]\n",
      " [0.4862722  0.180414   0.66620005 0.48111588 0.89633482]]\n"
     ]
    }
   ],
   "source": [
    "print(rand_mat)\n",
    "rand_mat[1:3,3:5] = 0\n",
    "print('')\n",
    "print(rand_mat)"
   ]
  },
  {
   "cell_type": "code",
   "execution_count": 27,
   "metadata": {},
   "outputs": [
    {
     "name": "stdout",
     "output_type": "stream",
     "text": [
      "[[0.16880535 0.35894606 0.28890073]\n",
      " [0.0825886  0.64903667 0.81768018]]\n",
      "[[3. 3. 3.]\n",
      " [3. 3. 3.]]\n"
     ]
    }
   ],
   "source": [
    "sub_mat = rand_mat[0:2,0:3]\n",
    "print(sub_mat)\n",
    "sub_mat[:] = 3\n",
    "print(sub_mat)\n"
   ]
  },
  {
   "cell_type": "code",
   "execution_count": 28,
   "metadata": {},
   "outputs": [
    {
     "name": "stdout",
     "output_type": "stream",
     "text": [
      "[[3.         3.         3.         0.4544318  0.40756237]\n",
      " [3.         3.         3.         0.         0.        ]\n",
      " [0.10335177 0.34597068 0.46429314 0.         0.        ]\n",
      " [0.13637321 0.02436527 0.99848828 0.83753101 0.30194466]\n",
      " [0.4862722  0.180414   0.66620005 0.48111588 0.89633482]]\n"
     ]
    }
   ],
   "source": [
    "print(rand_mat)"
   ]
  },
  {
   "cell_type": "markdown",
   "metadata": {},
   "source": [
    "## Creating copy of matrix"
   ]
  },
  {
   "cell_type": "code",
   "execution_count": 43,
   "metadata": {},
   "outputs": [
    {
     "name": "stdout",
     "output_type": "stream",
     "text": [
      "[[99. 99. 99.]\n",
      " [99. 99. 99.]]\n",
      "[[0.42433616 0.63826512 0.27081522 0.13171666 0.67311621]\n",
      " [0.0320257  0.61018882 0.28567525 0.50075779 0.17366139]\n",
      " [0.8001132  0.7563492  0.08550452 0.77022358 0.58410806]\n",
      " [0.0047388  0.49801243 0.42973793 0.67572263 0.91848267]\n",
      " [0.47213685 0.12845897 0.99403237 0.32957296 0.92629123]]\n"
     ]
    }
   ],
   "source": [
    "sub_mat2 = rand_mat[0:2,0:3].copy()\n",
    "sub_mat2[:] = 99\n",
    "print(sub_mat2)\n",
    "print(rand_mat)\n"
   ]
  },
  {
   "cell_type": "markdown",
   "metadata": {},
   "source": [
    "## Accessing entries using logical conditions "
   ]
  },
  {
   "cell_type": "code",
   "execution_count": 45,
   "metadata": {},
   "outputs": [
    {
     "name": "stdout",
     "output_type": "stream",
     "text": [
      "[ 0.92244713  0.07899947 -0.14682032  1.10980064  0.02125642 -0.92320121\n",
      " -0.85235685  0.79584656 -0.75772006  0.87321983 -0.63056231 -2.01555767\n",
      "  1.44572475 -0.34915105 -0.83880854]\n",
      "[ True  True False  True  True False False  True False  True False False\n",
      "  True False False]\n",
      "[0.92244713 0.07899947 1.10980064 0.02125642 0.79584656 0.87321983\n",
      " 1.44572475]\n"
     ]
    }
   ],
   "source": [
    "# we can also access entries with logicals\n",
    "rand_vec = np.random.randn(15)\n",
    "\n",
    "print(rand_vec)\n",
    "print(rand_vec>0)\n",
    "print(rand_vec[rand_vec>0])"
   ]
  },
  {
   "cell_type": "code",
   "execution_count": 46,
   "metadata": {},
   "outputs": [
    {
     "name": "stdout",
     "output_type": "stream",
     "text": [
      "[[-0.7408915   1.32376438  0.39913401  0.38069874  0.34245864]\n",
      " [-0.13223875 -1.96511338  0.90026881  0.04122428  0.65262482]\n",
      " [ 0.13029539  0.87754495  0.05799537 -1.1319344   0.75587559]\n",
      " [ 0.3336071  -0.13081979 -0.21885299 -1.00803078  0.81682611]\n",
      " [ 0.0600196   0.45863493 -1.85593412 -0.47185612 -0.16587387]\n",
      " [-0.02468073  0.07801798  0.01889054 -1.66755336  0.23069222]\n",
      " [ 0.05058253  0.07161233  0.45368547 -0.38579186 -0.72472691]\n",
      " [-0.62957526  0.80819105  0.45117329 -0.05228862 -0.16595689]\n",
      " [ 0.60834966 -0.63091589 -0.51462362  2.07918785  0.38852459]\n",
      " [ 0.83586479 -0.66180107  0.94977376  0.72736757 -0.67600007]]\n",
      "[1.32376438 0.39913401 0.38069874 0.34245864 0.90026881 0.04122428\n",
      " 0.65262482 0.13029539 0.87754495 0.05799537 0.75587559 0.3336071\n",
      " 0.81682611 0.0600196  0.45863493 0.07801798 0.01889054 0.23069222\n",
      " 0.05058253 0.07161233 0.45368547 0.80819105 0.45117329 0.60834966\n",
      " 2.07918785 0.38852459 0.83586479 0.94977376 0.72736757]\n"
     ]
    }
   ],
   "source": [
    "print(rand_mat2)\n",
    "print(rand_mat2[rand_mat2>0])"
   ]
  },
  {
   "cell_type": "code",
   "execution_count": 47,
   "metadata": {},
   "outputs": [
    {
     "name": "stdout",
     "output_type": "stream",
     "text": [
      "[ 0.92244713  0.07899947 -0.14682032  1.10980064  0.02125642 -0.92320121\n",
      " -0.85235685  0.79584656 -0.75772006  0.87321983 -0.63056231 -2.01555767\n",
      "  1.44572475 -0.34915105 -0.83880854]\n",
      "\n",
      "[-5.          0.07899947 -0.14682032 -5.          0.02125642 -0.92320121\n",
      " -0.85235685 -5.         -0.75772006 -5.         -0.63056231 -2.01555767\n",
      " -5.         -0.34915105 -0.83880854]\n"
     ]
    }
   ],
   "source": [
    "\n",
    "print(rand_vec)\n",
    "print('')\n",
    "rand_vec[rand_vec>0.5] = -5\n",
    "print(rand_vec)"
   ]
  },
  {
   "cell_type": "markdown",
   "metadata": {},
   "source": [
    "## Saving on disk"
   ]
  },
  {
   "cell_type": "code",
   "execution_count": 49,
   "metadata": {},
   "outputs": [],
   "source": [
    "# let's save some arrays on the disk for use later!\n",
    "np.save('saved_file_name',rand_mat2)\n"
   ]
  },
  {
   "cell_type": "code",
   "execution_count": 50,
   "metadata": {},
   "outputs": [],
   "source": [
    "np.savez('zipped_file_name',rand_mat=rand_mat,rand_mat2=rand_mat2)"
   ]
  },
  {
   "cell_type": "markdown",
   "metadata": {},
   "source": [
    "## Loding from disk"
   ]
  },
  {
   "cell_type": "code",
   "execution_count": 53,
   "metadata": {},
   "outputs": [
    {
     "name": "stdout",
     "output_type": "stream",
     "text": [
      "[[-0.7408915   1.32376438  0.39913401  0.38069874  0.34245864]\n",
      " [-0.13223875 -1.96511338  0.90026881  0.04122428  0.65262482]\n",
      " [ 0.13029539  0.87754495  0.05799537 -1.1319344   0.75587559]\n",
      " [ 0.3336071  -0.13081979 -0.21885299 -1.00803078  0.81682611]\n",
      " [ 0.0600196   0.45863493 -1.85593412 -0.47185612 -0.16587387]\n",
      " [-0.02468073  0.07801798  0.01889054 -1.66755336  0.23069222]\n",
      " [ 0.05058253  0.07161233  0.45368547 -0.38579186 -0.72472691]\n",
      " [-0.62957526  0.80819105  0.45117329 -0.05228862 -0.16595689]\n",
      " [ 0.60834966 -0.63091589 -0.51462362  2.07918785  0.38852459]\n",
      " [ 0.83586479 -0.66180107  0.94977376  0.72736757 -0.67600007]]\n",
      "\n",
      "<numpy.lib.npyio.NpzFile object at 0x000001C6D4F9D148>\n"
     ]
    }
   ],
   "source": [
    "# now let's load it\n",
    "loaded_vec = np.load('saved_file_name.npy')\n",
    "loaded_zip = np.load('zipped_file_name.npz')\n",
    "\n",
    "print(loaded_vec)\n",
    "print('')\n",
    "print(loaded_zip)"
   ]
  },
  {
   "cell_type": "code",
   "execution_count": 54,
   "metadata": {},
   "outputs": [
    {
     "name": "stdout",
     "output_type": "stream",
     "text": [
      "[[0.42433616 0.63826512 0.27081522 0.13171666 0.67311621]\n",
      " [0.0320257  0.61018882 0.28567525 0.50075779 0.17366139]\n",
      " [0.8001132  0.7563492  0.08550452 0.77022358 0.58410806]\n",
      " [0.0047388  0.49801243 0.42973793 0.67572263 0.91848267]\n",
      " [0.47213685 0.12845897 0.99403237 0.32957296 0.92629123]]\n",
      "\n",
      "[[-0.7408915   1.32376438  0.39913401  0.38069874  0.34245864]\n",
      " [-0.13223875 -1.96511338  0.90026881  0.04122428  0.65262482]\n",
      " [ 0.13029539  0.87754495  0.05799537 -1.1319344   0.75587559]\n",
      " [ 0.3336071  -0.13081979 -0.21885299 -1.00803078  0.81682611]\n",
      " [ 0.0600196   0.45863493 -1.85593412 -0.47185612 -0.16587387]\n",
      " [-0.02468073  0.07801798  0.01889054 -1.66755336  0.23069222]\n",
      " [ 0.05058253  0.07161233  0.45368547 -0.38579186 -0.72472691]\n",
      " [-0.62957526  0.80819105  0.45117329 -0.05228862 -0.16595689]\n",
      " [ 0.60834966 -0.63091589 -0.51462362  2.07918785  0.38852459]\n",
      " [ 0.83586479 -0.66180107  0.94977376  0.72736757 -0.67600007]]\n",
      "[[0.42433616 0.63826512 0.27081522 0.13171666 0.67311621]\n",
      " [0.0320257  0.61018882 0.28567525 0.50075779 0.17366139]\n",
      " [0.8001132  0.7563492  0.08550452 0.77022358 0.58410806]\n",
      " [0.0047388  0.49801243 0.42973793 0.67572263 0.91848267]\n",
      " [0.47213685 0.12845897 0.99403237 0.32957296 0.92629123]]\n"
     ]
    }
   ],
   "source": [
    "print(loaded_zip['rand_mat'])\n",
    "print('')\n",
    "print(loaded_zip['rand_mat2'])\n",
    "\n",
    "new_array  = loaded_zip['rand_mat']\n",
    "print(new_array)"
   ]
  },
  {
   "cell_type": "code",
   "execution_count": 55,
   "metadata": {},
   "outputs": [
    {
     "name": "stdout",
     "output_type": "stream",
     "text": [
      "[[0.42433616 0.63826512 0.27081522 0.13171666 0.67311621]\n",
      " [0.0320257  0.61018882 0.28567525 0.50075779 0.17366139]\n",
      " [0.8001132  0.7563492  0.08550452 0.77022358 0.58410806]\n",
      " [0.0047388  0.49801243 0.42973793 0.67572263 0.91848267]\n",
      " [0.47213685 0.12845897 0.99403237 0.32957296 0.92629123]]\n",
      "\n",
      "[[0.42433616 0.63826512 0.27081522 0.13171666 0.67311621]\n",
      " [0.0320257  0.61018882 0.28567525 0.50075779 0.17366139]\n",
      " [0.8001132  0.7563492  0.08550452 0.77022358 0.58410806]\n",
      " [0.0047388  0.49801243 0.42973793 0.67572263 0.91848267]\n",
      " [0.47213685 0.12845897 0.99403237 0.32957296 0.92629123]]\n"
     ]
    }
   ],
   "source": [
    "# we can also save/load as text files...but only single variables\n",
    "np.savetxt('text_file_name.txt',rand_mat,delimiter=',')\n",
    "rand_mat_txt = np.loadtxt('text_file_name.txt',delimiter=',')\n",
    "print(rand_mat)\n",
    "print('')\n",
    "print(rand_mat_txt)"
   ]
  }
 ],
 "metadata": {
  "kernelspec": {
   "display_name": "Python 3",
   "language": "python",
   "name": "python3"
  },
  "language_info": {
   "codemirror_mode": {
    "name": "ipython",
    "version": 3
   },
   "file_extension": ".py",
   "mimetype": "text/x-python",
   "name": "python",
   "nbconvert_exporter": "python",
   "pygments_lexer": "ipython3",
   "version": "3.7.6"
  }
 },
 "nbformat": 4,
 "nbformat_minor": 2
}
